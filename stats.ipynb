{
 "cells": [
  {
   "cell_type": "code",
   "id": "initial_id",
   "metadata": {
    "collapsed": true,
    "ExecuteTime": {
     "end_time": "2024-10-29T13:56:28.601989Z",
     "start_time": "2024-10-29T13:56:27.052250Z"
    }
   },
   "source": [
    "import math\n",
    "\n",
    "from scipy import stats\n",
    "import numpy as np"
   ],
   "outputs": [],
   "execution_count": 3
  },
  {
   "metadata": {},
   "cell_type": "markdown",
   "source": "<h1> General Stuff </h1>",
   "id": "aa9538658530b4f3"
  },
  {
   "metadata": {
    "ExecuteTime": {
     "end_time": "2024-10-29T18:42:05.363276Z",
     "start_time": "2024-10-29T18:42:05.347089Z"
    }
   },
   "cell_type": "code",
   "source": [
    "def pvalue(t, df):\n",
    "    p_value = stats.t.sf(abs(t), df) * 2\n",
    "    return p_value\n",
    "\n",
    "def degreeFreedom(n):\n",
    "    return n - 1\n",
    "\n",
    "def xDiff(x1, x2):\n",
    "    return x1 - x2\n",
    "\n",
    "def muDiff(mu1, mu2):\n",
    "    return mu1 - mu2"
   ],
   "id": "87d3274256a86e0a",
   "outputs": [],
   "execution_count": 37
  },
  {
   "metadata": {},
   "cell_type": "markdown",
   "source": "<h1> One Mean </h1>",
   "id": "32af810079906299"
  },
  {
   "metadata": {
    "ExecuteTime": {
     "end_time": "2024-10-29T19:12:19.074250Z",
     "start_time": "2024-10-29T19:12:19.060593Z"
    }
   },
   "cell_type": "code",
   "source": [
    "def zTestKnownSigma(xbar, mu, sigma, n): #Only if we know sigma.\n",
    "    return (xbar - mu)/(sigma / math.sqrt(n))\n",
    "\n",
    "def standardErrorWith(sigma, n): #If we know sigma\n",
    "    return sigma / math.sqrt(n)\n",
    "\n",
    "def standardErrorWithout(s, n): #If we don't know sigma\n",
    "    return s / math.sqrt(n)\n",
    "\n",
    "def confIntervalZ(pointEst, CirtValue, SE):\n",
    "    lower = pointEst - CirtValue * SE\n",
    "    upper = pointEst + CirtValue * SE\n",
    "    \n",
    "    interval = (lower, upper)\n",
    "    return interval\n",
    "\n",
    "def tTestUnknownSimga(xbar, mu, s, n): #only if we don't know sigma\n",
    "    return (xbar - mu)/(s / math.sqrt(n))\n",
    "\n",
    "def StandError(p, n):\n",
    "    return math.sqrt((p*(1-p))/n)\n",
    "\n",
    "def findProtion(n, y): #N is smaller\n",
    "    return n / y"
   ],
   "id": "92dd99790a11ff8b",
   "outputs": [],
   "execution_count": 42
  },
  {
   "metadata": {
    "ExecuteTime": {
     "end_time": "2024-10-29T18:42:09.394810Z",
     "start_time": "2024-10-29T18:42:09.369824Z"
    }
   },
   "cell_type": "code",
   "source": [
    "def confIntervalT(pointEst, df, SE, conflevel):\n",
    "    alpha = 1 - conflevel\n",
    "    \n",
    "    tStar = stats.t.ppf(1 - alpha / 2, df)\n",
    "    \n",
    "    lower = pointEst - tStar * SE\n",
    "    upper = pointEst + tStar * SE\n",
    "    \n",
    "    interval = (lower, upper)\n",
    "    \n",
    "    return interval\n",
    "    \n",
    "def standardErrorXDiff(sDiff, nDiff):\n",
    "    return sDiff / math.sqrt(nDiff)\n",
    "\n",
    "def tTestDiff(xBDiff, null, SEDiff):\n",
    "    return (xBDiff - null) / SEDiff\n",
    "\n",
    "\n",
    "def SETwoMeansKnown(sigma1, sigma2, n1, n2): #If we know sigma\n",
    "    return math.sqrt((math.pow(sigma1, 2) / n1) + (math.pow(sigma2, 2) / n2))\n",
    "\n",
    "def SETwoMeansUnknow(s1, s2, n1, n2): #If we don't know sigma\n",
    "    return math.sqrt((math.pow(s1, 2) / n1) + (math.pow(s2, 2) / n2))\n",
    "\n",
    "def degreeFreeTwoMean(n1, n2):\n",
    "    return min(n1 - 1, n2 - 1)\n",
    "\n",
    "def confIntervalTTwoMeans(xDiff, df, SE, conflevel):\n",
    "    alpha = 1 - conflevel\n",
    "    \n",
    "    tStar = stats.t.ppf(1 - alpha / 2, df)\n",
    "    \n",
    "    lower = xDiff - tStar * SE\n",
    "    upper = xDiff + tStar * SE\n",
    "    interval = (round(lower, 2), round(upper, 2))\n",
    "    \n",
    "    return interval\n",
    "\n",
    "def tTestTwoMean(xDiff, muDiff, SETwo):\n",
    "    return (xDiff - muDiff) / SETwo\n"
   ],
   "id": "897e003a417156dc",
   "outputs": [],
   "execution_count": 39
  },
  {
   "metadata": {
    "ExecuteTime": {
     "end_time": "2024-10-29T19:37:18.452469Z",
     "start_time": "2024-10-29T19:37:18.445590Z"
    }
   },
   "cell_type": "code",
   "source": [
    "x = findProtion(64, 1000)\n",
    "SE = StandError(x, 1000)\n",
    "\n",
    "SE"
   ],
   "id": "cc5b19ee4a9da332",
   "outputs": [
    {
     "data": {
      "text/plain": [
       "0.007739767438366608"
      ]
     },
     "execution_count": 55,
     "metadata": {},
     "output_type": "execute_result"
    }
   ],
   "execution_count": 55
  }
 ],
 "metadata": {
  "kernelspec": {
   "display_name": "Python 3",
   "language": "python",
   "name": "python3"
  },
  "language_info": {
   "codemirror_mode": {
    "name": "ipython",
    "version": 2
   },
   "file_extension": ".py",
   "mimetype": "text/x-python",
   "name": "python",
   "nbconvert_exporter": "python",
   "pygments_lexer": "ipython2",
   "version": "2.7.6"
  }
 },
 "nbformat": 4,
 "nbformat_minor": 5
}
